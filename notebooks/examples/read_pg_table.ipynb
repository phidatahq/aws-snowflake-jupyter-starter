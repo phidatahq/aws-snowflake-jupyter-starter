{
 "cells": [
  {
   "cell_type": "code",
   "execution_count": 3,
   "id": "e6b4ad9e-517b-49e4-8957-63fb539fd084",
   "metadata": {},
   "outputs": [
    {
     "data": {
      "text/html": [
       "<pre style=\"white-space:pre;overflow-x:auto;line-height:normal;font-family:Menlo,'DejaVu Sans Mono',consolas,'Courier New',monospace\"><span style=\"color: #000080; text-decoration-color: #000080\">INFO    </span> Reading table: daily_active_users                                                                         \n",
       "</pre>\n"
      ],
      "text/plain": [
       "\u001b[34mINFO    \u001b[0m Reading table: daily_active_users                                                                         \n"
      ]
     },
     "metadata": {},
     "output_type": "display_data"
    },
    {
     "name": "stdout",
     "output_type": "stream",
     "text": [
      "           ds  active_users\n",
      "0  2021-10-03            51\n",
      "1  2021-10-04            47\n",
      "2  2021-10-10            55\n",
      "3  2021-10-08            53\n",
      "4  2021-10-07            52\n",
      "5  2021-10-02            52\n",
      "6  2021-10-01            57\n",
      "7  2021-10-09            53\n",
      "8  2021-10-05            51\n",
      "9  2021-10-06            52\n"
     ]
    }
   ],
   "source": [
    "from workflows.dau.dau_pg import daily_active_users_table\n",
    "\n",
    "dau = daily_active_users_table.read_pandas_df()\n",
    "\n",
    "print(dau)"
   ]
  },
  {
   "cell_type": "code",
   "execution_count": 4,
   "id": "dd508dcd-c7b8-483a-8340-67eb38bb9803",
   "metadata": {},
   "outputs": [
    {
     "data": {
      "text/html": [
       "<pre style=\"white-space:pre;overflow-x:auto;line-height:normal;font-family:Menlo,'DejaVu Sans Mono',consolas,'Courier New',monospace\"><span style=\"color: #000080; text-decoration-color: #000080\">INFO    </span> Reading table: crypto_prices                                                                              \n",
       "</pre>\n"
      ],
      "text/plain": [
       "\u001b[34mINFO    \u001b[0m Reading table: crypto_prices                                                                              \n"
      ]
     },
     "metadata": {},
     "output_type": "display_data"
    },
    {
     "name": "stdout",
     "output_type": "stream",
     "text": [
      "             ds hour    ticker           usd  usd_market_cap   usd_24h_vol  \\\n",
      "0    2022-09-30   21  litecoin     53.380000    3.804846e+09  2.832188e+08   \n",
      "1    2022-09-30   21    tether      1.000000    6.798887e+10  4.224783e+10   \n",
      "2    2022-09-30   21    ripple      0.474739    2.367319e+10  2.839860e+09   \n",
      "3    2022-09-30   21   bitcoin  19395.390000    3.718068e+11  3.584996e+10   \n",
      "4    2022-09-30   21  ethereum   1329.280000    1.605806e+11  1.119913e+10   \n",
      "..          ...  ...       ...           ...             ...           ...   \n",
      "470  2022-10-05   14  ethereum   1330.270000    1.604386e+11  7.807620e+09   \n",
      "471  2022-10-05   14    tether      1.001000    6.802386e+10  3.499197e+10   \n",
      "472  2022-10-05   14    ripple      0.490396    2.438528e+10  2.155508e+09   \n",
      "473  2022-10-05   14  litecoin     53.930000    3.835295e+09  2.537295e+08   \n",
      "474  2022-10-05   14   bitcoin  20009.000000    3.825844e+11  2.996275e+10   \n",
      "\n",
      "     usd_24h_change  last_updated_at                       dttm  \n",
      "0         -0.845773       1664587223 2022-09-30 21:22:03.539275  \n",
      "1         -0.018472       1664587273 2022-09-30 21:22:03.539275  \n",
      "2          0.147725       1664587288 2022-09-30 21:22:03.539275  \n",
      "3         -0.475042       1664587277 2022-09-30 21:22:03.539275  \n",
      "4         -0.251150       1664587304 2022-09-30 21:22:03.539275  \n",
      "..              ...              ...                        ...  \n",
      "470       -1.716708       1664984851 2022-10-05 14:00:00.000000  \n",
      "471        0.124472       1664984773 2022-10-05 14:00:00.000000  \n",
      "472        2.866443       1664984886 2022-10-05 14:00:00.000000  \n",
      "473       -1.198484       1664984901 2022-10-05 14:00:00.000000  \n",
      "474       -0.387714       1664984855 2022-10-05 14:00:00.000000  \n",
      "\n",
      "[475 rows x 9 columns]\n"
     ]
    }
   ],
   "source": [
    "from workflows.crypto.prices_pg import crypto_prices_table\n",
    "\n",
    "crypto_prices = crypto_prices_table.read_pandas_df()\n",
    "\n",
    "print(crypto_prices)"
   ]
  },
  {
   "cell_type": "code",
   "execution_count": null,
   "id": "c877a1c6-7b56-498b-bed1-3363d01d6c1c",
   "metadata": {},
   "outputs": [],
   "source": []
  }
 ],
 "metadata": {
  "kernelspec": {
   "display_name": "Python 3 (ipykernel)",
   "language": "python",
   "name": "python3"
  },
  "language_info": {
   "codemirror_mode": {
    "name": "ipython",
    "version": 3
   },
   "file_extension": ".py",
   "mimetype": "text/x-python",
   "name": "python",
   "nbconvert_exporter": "python",
   "pygments_lexer": "ipython3",
   "version": "3.9.12"
  },
  "vscode": {
   "interpreter": {
    "hash": "c7d26ab7d544fcef12674c505f0f560c1aaa7fbbf2decb1a8ffd9545d5c2ea37"
   }
  }
 },
 "nbformat": 4,
 "nbformat_minor": 5
}
